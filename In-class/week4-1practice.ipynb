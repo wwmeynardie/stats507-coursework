{
 "cells": [
  {
   "cell_type": "markdown",
   "metadata": {
    "colab_type": "text",
    "deletable": false,
    "editable": true,
    "id": "ck4jLznJiooB",
    "nbgrader": {
     "cell_type": "markdown",
     "checksum": "38b4cbfd496d80940cfa87c97061e3be",
     "grade": false,
     "grade_id": "cell-b1db85bf05a65a79",
     "locked": true,
     "schema_version": 3,
     "solution": false,
     "task": false
    },
    "slideshow": {
     "slide_type": ""
    },
    "tags": []
   },
   "source": [
    "### Lecture 4 Practice: Class"
   ]
  },
  {
   "cell_type": "markdown",
   "metadata": {
    "colab_type": "text",
    "deletable": false,
    "editable": true,
    "id": "7e5PDMTdlnhr",
    "nbgrader": {
     "cell_type": "markdown",
     "checksum": "028c604f7c4a6b0fd489eb9063fb71bd",
     "grade": false,
     "grade_id": "cell-473f900194560999",
     "locked": true,
     "schema_version": 3,
     "solution": false,
     "task": false
    },
    "slideshow": {
     "slide_type": ""
    },
    "tags": []
   },
   "source": [
    "### Question 1\n",
    "Design a Rectangle class that represents a rectangle in a 2D coordinate system with the following specifications:\n",
    "\n",
    "The rectangle is defined by: An upper-left corner (represented by a Point object), height (positive float/integer) and width (positive float/integer)\n",
    "\n",
    "\n",
    "Core Methods: 1) Constructor, 2) String representation for printing the rectangle details and 3) Area calculation area() that returns the rectangle's area."
   ]
  },
  {
   "cell_type": "code",
   "execution_count": 46,
   "metadata": {
    "deletable": false,
    "slideshow": {
     "slide_type": ""
    },
    "tags": []
   },
   "outputs": [],
   "source": [
    "class Point:\n",
    "    \"\"\"A class representing a point in 2D space.\"\"\"\n",
    "    \n",
    "    def __init__(self, x: float, y: float):\n",
    "        \"\"\"Initialize a Point with x and y coordinates.\n",
    "        Args:\n",
    "            x (float): x-coordinate\n",
    "            y (float): y-coordinate\n",
    "        \"\"\"\n",
    "        self.x = x\n",
    "        self.y = y\n",
    "    \n",
    "    def __str__(self) -> str:\n",
    "        \"\"\"Return string representation of the Point.\"\"\"\n",
    "        return f\"Point({self.x}, {self.y})\"\n",
    "    \n",
    "    def __eq__(self, other) -> bool:\n",
    "        \"\"\"Check if two points are equal.\"\"\"\n",
    "        if not isinstance(other, Point):\n",
    "            return False\n",
    "        return self.x == other.x and self.y == other.y\n",
    "    \n",
    "    def __lt__(self, other) -> bool:\n",
    "        if not isinstance(other, Point):\n",
    "            return False\n",
    "        return self.x < other.x\n",
    "    \n",
    "    def __le__(self, other) -> bool:\n",
    "        if not isinstance(other, Point):\n",
    "            return False\n",
    "        return self.x <= other.x\n",
    "    \n",
    "    def distance(self, other: 'Point') -> float:\n",
    "        \"\"\"Calculate Euclidean distance between two points.\n",
    "        \n",
    "        Args:\n",
    "            other (Point): Another point to calculate distance to\n",
    "            \n",
    "        Returns:\n",
    "            float: Distance between the points\n",
    "        \"\"\"\n",
    "        x_diff_square = (self.x - other.x) ** 2\n",
    "        y_diff_square = (self.y - other.y) ** 2\n",
    "        return (x_diff_square + y_diff_square) ** 0.5"
   ]
  },
  {
   "cell_type": "code",
   "execution_count": 82,
   "metadata": {},
   "outputs": [
    {
     "name": "stdout",
     "output_type": "stream",
     "text": [
      "Point(0, 0)\n"
     ]
    }
   ],
   "source": [
    "p1 = Point(0,0)\n",
    "p2 = Point(0,0)\n",
    "print(p1)"
   ]
  },
  {
   "cell_type": "code",
   "execution_count": 72,
   "metadata": {
    "colab": {},
    "colab_type": "code",
    "deletable": false,
    "editable": true,
    "id": "WxAZ_1kim6sh",
    "nbgrader": {
     "cell_type": "code",
     "checksum": "2eedbb0747607347736b7d1a4128c272",
     "grade": false,
     "grade_id": "cell-6c67d579c481de9b",
     "locked": false,
     "schema_version": 3,
     "solution": true,
     "task": false
    },
    "slideshow": {
     "slide_type": ""
    },
    "tags": []
   },
   "outputs": [],
   "source": [
    "class Rectangle:\n",
    "    \"\"\"A class representing a Rectangle\"\"\"\n",
    "\n",
    "    def __init__(self, UpperLeft: Point, width: float, height: float):\n",
    "        \"\"\"Initialize a Rectangle.\n",
    "        Args:\n",
    "            UpperLeft (Point): point that defines the upper left corner\n",
    "            height (float): height of rectangle\n",
    "            width (float): width of rectangle\n",
    "        \"\"\"\n",
    "        self.UpperLeft = UpperLeft\n",
    "        self.height = height\n",
    "        self.width = width\n",
    "\n",
    "    def __str__(self) -> str:\n",
    "        return f\"Rectangle(Upper Left corner: {self.UpperLeft}, width: {self.width}, height: {self.height})\"\n",
    "    \n",
    "    def __float__(self) -> float:\n",
    "        return float(self.height * self.width)\n",
    "    \n",
    "    def get_height(self) -> float:\n",
    "        return self.height\n",
    "    \n",
    "    def get_width(self) -> float:\n",
    "        return self.width\n",
    "    \n",
    "    def set_height(self, height):\n",
    "        self.height = height\n",
    "\n",
    "    def set_width(self, width):\n",
    "        self.width = width\n",
    "    \n",
    "    def area(self) -> float:\n",
    "        return self.height * self.width\n",
    "    \n",
    "    def UpperLeft(self) -> float:\n",
    "        return Point(self.UpperLeft.x, self.UpperLeft.y)\n",
    "    \n",
    "    def UpperRight(self) -> float:\n",
    "        return Point(self.UpperLeft.x + self.width, self.UpperLeft.y)\n",
    "    \n",
    "    def LowerLeft(self) -> float:\n",
    "        return Point(self.UpperLeft.x, self.UpperLeft.y - self.height)\n",
    "    \n",
    "    def LowerRight(self) -> float:\n",
    "        return Point(self.UpperLeft.x + self.width, self.UpperLeft.y - self.height)\n",
    "    \n",
    "    def __eq__(self, other) -> bool:\n",
    "        \"\"\"Check if two points are equal.\"\"\"\n",
    "        if not isinstance(other, Rectangle):\n",
    "            return False\n",
    "        return self.UpperLeft == other.UpperLeft and self.height == other.height and self.width == other.width"
   ]
  },
  {
   "cell_type": "code",
   "execution_count": 73,
   "metadata": {},
   "outputs": [
    {
     "name": "stdout",
     "output_type": "stream",
     "text": [
      "Created rectangle: Rectangle(Upper Left corner: Point(0, 10), width: 5, height: 8)\n",
      "Area: 40\n"
     ]
    }
   ],
   "source": [
    "p1 = Point(0, 10)\n",
    "rect1 = Rectangle(p1, 5, 8)\n",
    "print(f\"Created rectangle: {rect1}\")\n",
    "print(f\"Area: {rect1.area()}\")  # Should be 40"
   ]
  },
  {
   "cell_type": "code",
   "execution_count": 74,
   "metadata": {},
   "outputs": [
    {
     "name": "stdout",
     "output_type": "stream",
     "text": [
      "True\n",
      "False\n"
     ]
    }
   ],
   "source": [
    "rect2 = Rectangle(p1, 5, 8)\n",
    "rect3 = Rectangle(p1, 4, 6)\n",
    "print(rect1 == rect2)\n",
    "print(rect2 == rect3)"
   ]
  },
  {
   "cell_type": "code",
   "execution_count": 83,
   "metadata": {},
   "outputs": [
    {
     "name": "stdout",
     "output_type": "stream",
     "text": [
      "Point(5, 2)\n"
     ]
    }
   ],
   "source": [
    "print(rect1.LowerRight())"
   ]
  },
  {
   "cell_type": "code",
   "execution_count": null,
   "metadata": {},
   "outputs": [],
   "source": []
  }
 ],
 "metadata": {
  "colab": {
   "collapsed_sections": [],
   "name": "Lecture 2 practice Solution.ipynb",
   "provenance": []
  },
  "kernelspec": {
   "display_name": "base",
   "language": "python",
   "name": "python3"
  },
  "language_info": {
   "codemirror_mode": {
    "name": "ipython",
    "version": 3
   },
   "file_extension": ".py",
   "mimetype": "text/x-python",
   "name": "python",
   "nbconvert_exporter": "python",
   "pygments_lexer": "ipython3",
   "version": "3.11.4"
  }
 },
 "nbformat": 4,
 "nbformat_minor": 4
}
