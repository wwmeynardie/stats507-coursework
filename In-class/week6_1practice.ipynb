{
 "cells": [
  {
   "cell_type": "markdown",
   "metadata": {
    "deletable": false,
    "nbgrader": {
     "checksum": "2b665f7a237c7a032c7952d218adb3e9",
     "grade": false,
     "grade_id": "cell-2eb7d743fa08f005",
     "locked": true,
     "schema_version": 3,
     "solution": false,
     "task": false
    }
   },
   "source": [
    "### Week 6 Numpy Practice Problems (continued)"
   ]
  },
  {
   "cell_type": "code",
   "execution_count": 1,
   "metadata": {
    "deletable": false,
    "nbgrader": {
     "checksum": "4d81e32309a33c2ea6ee015f08fba0d3",
     "grade": false,
     "grade_id": "cell-17b047d8577e133c",
     "locked": true,
     "schema_version": 3,
     "solution": false,
     "task": false
    }
   },
   "outputs": [],
   "source": [
    "import numpy as np"
   ]
  },
  {
   "cell_type": "markdown",
   "metadata": {
    "deletable": false,
    "nbgrader": {
     "checksum": "b3d04b9d8f041cd36e9dba1b8222db72",
     "grade": false,
     "grade_id": "cell-7985f59c89695efa",
     "locked": true,
     "schema_version": 3,
     "solution": false,
     "task": false
    }
   },
   "source": [
    "### Problem 1 (revisit)\n",
    "Use numpy to create a function that adds a border filled with zeros around an existing array.\n",
    "\n",
    "*Hint*: Use numpy's `pad` function. See https://numpy.org/doc/stable/reference/generated/numpy.pad.html\n",
    "\n",
    "Note: we did not cover this function in class, see if you are comfortable of reading numpy documents and learn on your own!"
   ]
  },
  {
   "cell_type": "code",
   "execution_count": 2,
   "metadata": {
    "deletable": false,
    "nbgrader": {
     "checksum": "51d7177dfb8191f1bee1f3e65868410f",
     "grade": false,
     "grade_id": "cell-2466342b05a17106",
     "locked": false,
     "schema_version": 3,
     "solution": true,
     "task": false
    }
   },
   "outputs": [],
   "source": [
    "def add_border(x):\n",
    "    return np.pad(x, 1, 'constant', constant_values=0)"
   ]
  },
  {
   "cell_type": "code",
   "execution_count": 3,
   "metadata": {
    "deletable": false,
    "editable": false,
    "nbgrader": {
     "checksum": "9ed924325c1c02ece986c20232cab265",
     "grade": true,
     "grade_id": "cell-fb9bae34e3908aed",
     "locked": true,
     "points": 1,
     "schema_version": 3,
     "solution": false,
     "task": false
    }
   },
   "outputs": [],
   "source": [
    "x = np.ones((1, 1))\n",
    "claimed = add_border(x)\n",
    "correct = np.zeros((3, 3))\n",
    "correct[1, 1] = 1.0\n",
    "assert claimed.shape == correct.shape\n",
    "assert np.all(np.abs(claimed - correct) < 1e-8)"
   ]
  },
  {
   "cell_type": "code",
   "execution_count": 6,
   "metadata": {},
   "outputs": [
    {
     "name": "stdout",
     "output_type": "stream",
     "text": [
      "[[0 0 0 0 0]\n",
      " [0 0 1 2 0]\n",
      " [0 0 3 4 0]\n",
      " [0 0 0 0 0]\n",
      " [0 0 0 0 0]]\n"
     ]
    }
   ],
   "source": [
    "# Let's go throught the document together\n",
    "# The np.pad function in NumPy is versatile and can be used in various ways to add borders or padding to arrays\n",
    "# 1) Number of values padded to the edges of each axis. ((before_1, after_1), ... (before_N, after_N)) \n",
    "x = np.array([[1, 2], [3, 4]])\n",
    "padded = np.pad(x, pad_width=((1,2), (2,1)), mode='constant', constant_values=0)\n",
    "print(padded)"
   ]
  },
  {
   "cell_type": "code",
   "execution_count": 7,
   "metadata": {},
   "outputs": [
    {
     "name": "stdout",
     "output_type": "stream",
     "text": [
      "[[1 1 1 2 2]\n",
      " [1 1 1 2 2]\n",
      " [3 3 3 4 4]\n",
      " [3 3 3 4 4]\n",
      " [3 3 3 4 4]]\n"
     ]
    }
   ],
   "source": [
    "# Pad with different mode 'constant' -> 'mode'\n",
    "x = np.array([[1, 2], [3, 4]])\n",
    "padded = np.pad(x, pad_width=((1,2), (2,1)), mode='edge')\n",
    "print(padded)"
   ]
  },
  {
   "cell_type": "code",
   "execution_count": 8,
   "metadata": {},
   "outputs": [
    {
     "name": "stdout",
     "output_type": "stream",
     "text": [
      "[[7 7 5 5 8]\n",
      " [7 7 1 2 8]\n",
      " [7 7 3 4 8]\n",
      " [7 7 6 6 8]\n",
      " [7 7 6 6 8]]\n"
     ]
    }
   ],
   "source": [
    "# Pad with different values on each side\n",
    "x = np.array([[1, 2], [3, 4]])\n",
    "padded = np.pad(x, pad_width=((1,2), (2,1)), mode='constant', constant_values=((5,6), (7,8)))\n",
    "print(padded)"
   ]
  },
  {
   "cell_type": "markdown",
   "metadata": {},
   "source": [
    "### Problem 2\n",
    "Your task is to create a 2D array that shows the temperature for each city for each day of the week, assuming all cities have the same temperature pattern but with different baselines:\n",
    "\n",
    "City 1: (first in the list): Use the temperatures as they are\n",
    "\n",
    "City 2: Add  `5°C` to the temperatures\n",
    "\n",
    "City 3: Subtract  `2°C` from the temperatures"
   ]
  },
  {
   "cell_type": "code",
   "execution_count": 9,
   "metadata": {},
   "outputs": [],
   "source": [
    "def create_city_temperatures(temperatures, cities, offsets=None):\n",
    "    if not offsets:\n",
    "        offsets = [0, 5, -2]\n",
    "    results = np.zeros((len(cities), len(temperatures)))\n",
    "    for i, offset in enumerate(offsets):\n",
    "        results[i] = temperatures + offset\n",
    "    return results"
   ]
  },
  {
   "cell_type": "code",
   "execution_count": 28,
   "metadata": {},
   "outputs": [],
   "source": [
    "def create_city_temperatures(temperatures, cities, offsets=None):\n",
    "    if not offsets:\n",
    "        offsets = np.array([0, 5, -2])\n",
    "    return np.array([temperatures] * len(cities)) + offsets[:,np.newaxis]"
   ]
  },
  {
   "cell_type": "code",
   "execution_count": 29,
   "metadata": {},
   "outputs": [
    {
     "name": "stdout",
     "output_type": "stream",
     "text": [
      "[[20 22 25 19 23 21 18]\n",
      " [25 27 30 24 28 26 23]\n",
      " [18 20 23 17 21 19 16]]\n",
      "\n",
      "New York:\n",
      "[20 22 25 19 23 21 18]\n",
      "\n",
      "Los Angeles:\n",
      "[25 27 30 24 28 26 23]\n",
      "\n",
      "Chicago:\n",
      "[18 20 23 17 21 19 16]\n"
     ]
    }
   ],
   "source": [
    "# Given data\n",
    "temperatures = np.array([20, 22, 25, 19, 23, 21, 18])  # 7 days\n",
    "cities = np.array(['New York', 'Los Angeles', 'Chicago'])\n",
    "# Create and print the result\n",
    "result = create_city_temperatures(temperatures, cities)\n",
    "print(result)\n",
    "# Print with city names\n",
    "for i, city in enumerate(cities):\n",
    "    print(f\"\\n{city}:\")\n",
    "    print(result[i, :])"
   ]
  },
  {
   "cell_type": "code",
   "execution_count": null,
   "metadata": {},
   "outputs": [],
   "source": []
  }
 ],
 "metadata": {
  "kernelspec": {
   "display_name": "base",
   "language": "python",
   "name": "python3"
  },
  "language_info": {
   "codemirror_mode": {
    "name": "ipython",
    "version": 3
   },
   "file_extension": ".py",
   "mimetype": "text/x-python",
   "name": "python",
   "nbconvert_exporter": "python",
   "pygments_lexer": "ipython3",
   "version": "3.11.4"
  }
 },
 "nbformat": 4,
 "nbformat_minor": 4
}
