{
 "cells": [
  {
   "cell_type": "markdown",
   "id": "00060f85",
   "metadata": {
    "id": "00060f85"
   },
   "source": [
    "\n",
    "## SQL exercises"
   ]
  },
  {
   "cell_type": "markdown",
   "id": "0415bee5",
   "metadata": {
    "id": "0415bee5"
   },
   "source": [
    "In this lecture we'll practice performing SQL queries using the Python SQLite module and the `flights` database:"
   ]
  },
  {
   "cell_type": "code",
   "execution_count": 4,
   "id": "db31de16",
   "metadata": {
    "executionInfo": {
     "elapsed": 154,
     "status": "ok",
     "timestamp": 1707324747243,
     "user": {
      "displayName": "Jayashree Ravi",
      "userId": "06933604785290521829"
     },
     "user_tz": 300
    },
    "id": "db31de16"
   },
   "outputs": [],
   "source": [
    "import sqlite3\n",
    "con = sqlite3.connect(\"flights.sqlite\")\n",
    "\n",
    "\n",
    "cur = con.cursor()"
   ]
  },
  {
   "cell_type": "code",
   "execution_count": 6,
   "id": "85fcce49-cb21-4699-8f49-22ee4e41c019",
   "metadata": {},
   "outputs": [
    {
     "name": "stdout",
     "output_type": "stream",
     "text": [
      "\n",
      "Table: flights\n",
      "  year (INTEGER)\n",
      "  month (INTEGER)\n",
      "  day (INTEGER)\n",
      "  dep_time (INTEGER)\n",
      "  sched_dep_time (INTEGER)\n",
      "  dep_delay (REAL)\n",
      "  arr_time (INTEGER)\n",
      "  sched_arr_time (INTEGER)\n",
      "  arr_delay (REAL)\n",
      "  carrier (TEXT)\n",
      "  flight (INTEGER)\n",
      "  tailnum (TEXT)\n",
      "  origin (TEXT)\n",
      "  dest (TEXT)\n",
      "  air_time (REAL)\n",
      "  distance (REAL)\n",
      "  hour (REAL)\n",
      "  minute (REAL)\n",
      "  time_hour (REAL)\n",
      "\n",
      "Table: airports\n",
      "  faa (TEXT)\n",
      "  name (TEXT)\n",
      "  lat (REAL)\n",
      "  lon (REAL)\n",
      "  alt (REAL)\n",
      "  tz (REAL)\n",
      "  dst (TEXT)\n",
      "  tzone (TEXT)\n",
      "\n",
      "Table: weather\n",
      "  origin (TEXT)\n",
      "  year (INTEGER)\n",
      "  month (INTEGER)\n",
      "  day (INTEGER)\n",
      "  hour (INTEGER)\n",
      "  temp (REAL)\n",
      "  dewp (REAL)\n",
      "  humid (REAL)\n",
      "  wind_dir (REAL)\n",
      "  wind_speed (REAL)\n",
      "  wind_gust (REAL)\n",
      "  precip (REAL)\n",
      "  pressure (REAL)\n",
      "  visib (REAL)\n",
      "  time_hour (REAL)\n",
      "\n",
      "Table: airlines\n",
      "  carrier (TEXT)\n",
      "  name (TEXT)\n"
     ]
    }
   ],
   "source": [
    "# Get the list of tables\n",
    "cur.execute(\"SELECT name FROM sqlite_master WHERE type='table';\")\n",
    "tables = cur.fetchall()\n",
    "\n",
    "# For each table, get its schema\n",
    "for table in tables:\n",
    "    table_name = table[0]\n",
    "    print(f\"\\nTable: {table_name}\")\n",
    "    cur.execute(f\"PRAGMA table_info({table_name});\")\n",
    "    columns = cur.fetchall()\n",
    "    for col in columns:\n",
    "        print(f\"  {col[1]} ({col[2]})\")"
   ]
  },
  {
   "cell_type": "code",
   "execution_count": 20,
   "id": "80194acf-79f5-4dfa-a55a-a0e8e962a07e",
   "metadata": {},
   "outputs": [
    {
     "name": "stdout",
     "output_type": "stream",
     "text": [
      "AIRLINES TABLE:\n",
      "   carrier                         name\n",
      "0       9E            Endeavor Air Inc.\n",
      "1       AA       American Airlines Inc.\n",
      "2       AS         Alaska Airlines Inc.\n",
      "3       B6              JetBlue Airways\n",
      "4       DL         Delta Air Lines Inc.\n",
      "5       EV     ExpressJet Airlines Inc.\n",
      "6       F9       Frontier Airlines Inc.\n",
      "7       FL  AirTran Airways Corporation\n",
      "8       HA       Hawaiian Airlines Inc.\n",
      "9       MQ                    Envoy Air\n",
      "10      OO        SkyWest Airlines Inc.\n",
      "11      UA        United Air Lines Inc.\n",
      "12      US              US Airways Inc.\n",
      "13      VX               Virgin America\n",
      "14      WN       Southwest Airlines Co.\n",
      "15      YV           Mesa Airlines Inc.\n",
      "\n",
      "==================================================\n",
      "\n",
      "AIRPORTS TABLE:\n",
      "      faa                           name        lat         lon     alt   tz  \\\n",
      "0     04G              Lansdowne Airport  41.130472  -80.619583  1044.0 -5.0   \n",
      "1     06A  Moton Field Municipal Airport  32.460572  -85.680028   264.0 -6.0   \n",
      "2     06C            Schaumburg Regional  41.989341  -88.101243   801.0 -6.0   \n",
      "3     06N                Randall Airport  41.431912  -74.391561   523.0 -5.0   \n",
      "4     09J          Jekyll Island Airport  31.074472  -81.427778    11.0 -5.0   \n",
      "...   ...                            ...        ...         ...     ...  ...   \n",
      "1453  ZUN                     Black Rock  35.083228 -108.791778  6454.0 -7.0   \n",
      "1454  ZVE         New Haven Rail Station  41.298669  -72.925992     7.0 -5.0   \n",
      "1455  ZWI      Wilmington Amtrak Station  39.736667  -75.551667     0.0 -5.0   \n",
      "1456  ZWU       Washington Union Station  38.897460  -77.006430    76.0 -5.0   \n",
      "1457  ZYP                   Penn Station  40.750500  -73.993500    35.0 -5.0   \n",
      "\n",
      "     dst             tzone  \n",
      "0      A  America/New_York  \n",
      "1      A   America/Chicago  \n",
      "2      A   America/Chicago  \n",
      "3      A  America/New_York  \n",
      "4      A  America/New_York  \n",
      "...   ..               ...  \n",
      "1453   A    America/Denver  \n",
      "1454   A  America/New_York  \n",
      "1455   A  America/New_York  \n",
      "1456   A  America/New_York  \n",
      "1457   A  America/New_York  \n",
      "\n",
      "[1458 rows x 8 columns]\n",
      "\n",
      "==================================================\n",
      "\n",
      "FLIGHTS TABLE (Sample):\n",
      "   year  month  day carrier  flight origin dest  dep_time  arr_time  \\\n",
      "0  2013      1    1      UA    1545    EWR  IAH       517       830   \n",
      "1  2013      1    1      UA    1714    LGA  IAH       533       850   \n",
      "2  2013      1    1      AA    1141    JFK  MIA       542       923   \n",
      "3  2013      1    1      B6     725    JFK  BQN       544      1004   \n",
      "4  2013      1    1      DL     461    LGA  ATL       554       812   \n",
      "\n",
      "   dep_delay  arr_delay  \n",
      "0        2.0       11.0  \n",
      "1        4.0       20.0  \n",
      "2        2.0       33.0  \n",
      "3       -1.0      -18.0  \n",
      "4       -6.0      -25.0  \n",
      "\n",
      "==================================================\n",
      "\n",
      "WEATHER TABLE (Sample):\n",
      "  origin  year  month  day  hour   temp  wind_speed  wind_dir  precip  visib\n",
      "0    EWR  2013      1    1     1  39.02    10.35702     270.0     0.0   10.0\n",
      "1    EWR  2013      1    1     2  39.02     8.05546     250.0     0.0   10.0\n",
      "2    EWR  2013      1    1     3  39.02    11.50780     240.0     0.0   10.0\n",
      "3    EWR  2013      1    1     4  39.92    12.65858     250.0     0.0   10.0\n",
      "4    EWR  2013      1    1     5  39.02    12.65858     260.0     0.0   10.0\n"
     ]
    }
   ],
   "source": [
    "import pandas as pd\n",
    "# Visualize the tables using pandas\n",
    "# 1. Airlines table (carrier codes and full names)\n",
    "airlines_query = \"SELECT * FROM airlines\"\n",
    "airlines_df = pd.read_sql_query(airlines_query, con)\n",
    "print(\"AIRLINES TABLE:\")\n",
    "print(airlines_df)\n",
    "print(\"\\n\" + \"=\"*50 + \"\\n\")\n",
    "\n",
    "# 2. Airports table (airport information)\n",
    "airports_query = \"SELECT * FROM airports\"\n",
    "airports_df = pd.read_sql_query(airports_query, con)\n",
    "print(\"AIRPORTS TABLE:\")\n",
    "print(airports_df)\n",
    "print(\"\\n\" + \"=\"*50 + \"\\n\")\n",
    "\n",
    "# 3. Sample of flights table (it's usually too large to show all)\n",
    "flights_query = \"\"\"\n",
    "SELECT \n",
    "    year, month, day,\n",
    "    carrier, flight,\n",
    "    origin, dest,\n",
    "    dep_time, arr_time,\n",
    "    dep_delay, arr_delay\n",
    "FROM flights \n",
    "LIMIT 5\n",
    "\"\"\"\n",
    "flights_df = pd.read_sql_query(flights_query, con)\n",
    "print(\"FLIGHTS TABLE (Sample):\")\n",
    "print(flights_df)\n",
    "print(\"\\n\" + \"=\"*50 + \"\\n\")\n",
    "\n",
    "# 4. Sample of weather table\n",
    "weather_query = \"\"\"\n",
    "SELECT \n",
    "    origin, year, month, day, hour,\n",
    "    temp, wind_speed, wind_dir, precip, visib\n",
    "FROM weather \n",
    "LIMIT 5\n",
    "\"\"\"\n",
    "weather_df = pd.read_sql_query(weather_query, con)\n",
    "print(\"WEATHER TABLE (Sample):\")\n",
    "print(weather_df)"
   ]
  },
  {
   "cell_type": "markdown",
   "id": "0699e89e",
   "metadata": {
    "id": "0699e89e"
   },
   "source": [
    "### The `cursor` object\n",
    "The cursor object is used to perform queries and fetch results. `cur.execute(query)` will execute `query` and return a results object:"
   ]
  },
  {
   "cell_type": "code",
   "execution_count": 23,
   "id": "SsoO94JDug7o",
   "metadata": {
    "colab": {
     "base_uri": "https://localhost:8080/"
    },
    "executionInfo": {
     "elapsed": 225,
     "status": "ok",
     "timestamp": 1707328835311,
     "user": {
      "displayName": "Jayashree Ravi",
      "userId": "06933604785290521829"
     },
     "user_tz": 300
    },
    "id": "SsoO94JDug7o",
    "outputId": "1723413d-6f67-47ad-eb45-1d73317c8cdd"
   },
   "outputs": [
    {
     "name": "stdout",
     "output_type": "stream",
     "text": [
      "('table', 'flights', 'flights', 2, 'CREATE TABLE `flights` (\\n  `year` INTEGER,\\n  `month` INTEGER,\\n  `day` INTEGER,\\n  `dep_time` INTEGER,\\n  `sched_dep_time` INTEGER,\\n  `dep_delay` REAL,\\n  `arr_time` INTEGER,\\n  `sched_arr_time` INTEGER,\\n  `arr_delay` REAL,\\n  `carrier` TEXT,\\n  `flight` INTEGER,\\n  `tailnum` TEXT,\\n  `origin` TEXT,\\n  `dest` TEXT,\\n  `air_time` REAL,\\n  `distance` REAL,\\n  `hour` REAL,\\n  `minute` REAL,\\n  `time_hour` REAL\\n)')\n",
      "('table', 'airports', 'airports', 5411, 'CREATE TABLE `airports` (\\n  `faa` TEXT,\\n  `name` TEXT,\\n  `lat` REAL,\\n  `lon` REAL,\\n  `alt` REAL,\\n  `tz` REAL,\\n  `dst` TEXT,\\n  `tzone` TEXT\\n)')\n",
      "('table', 'weather', 'weather', 5438, 'CREATE TABLE `weather` (\\n  `origin` TEXT,\\n  `year` INTEGER,\\n  `month` INTEGER,\\n  `day` INTEGER,\\n  `hour` INTEGER,\\n  `temp` REAL,\\n  `dewp` REAL,\\n  `humid` REAL,\\n  `wind_dir` REAL,\\n  `wind_speed` REAL,\\n  `wind_gust` REAL,\\n  `precip` REAL,\\n  `pressure` REAL,\\n  `visib` REAL,\\n  `time_hour` REAL\\n)')\n",
      "('table', 'airlines', 'airlines', 5921, 'CREATE TABLE `airlines` (\\n  `carrier` TEXT,\\n  `name` TEXT\\n)')\n"
     ]
    }
   ],
   "source": [
    "for row in cur.execute('select * from sqlite_master'):\n",
    "  print(row)"
   ]
  },
  {
   "cell_type": "code",
   "execution_count": 25,
   "id": "de4befa7",
   "metadata": {
    "executionInfo": {
     "elapsed": 138,
     "status": "ok",
     "timestamp": 1707325293689,
     "user": {
      "displayName": "Jayashree Ravi",
      "userId": "06933604785290521829"
     },
     "user_tz": 300
    },
    "id": "de4befa7"
   },
   "outputs": [
    {
     "name": "stdout",
     "output_type": "stream",
     "text": [
      "(2013, 1, 1, 517, 515, 2.0, 830, 819, 11.0, 'UA', 1545, 'N14228', 'EWR', 'IAH', 227.0, 1400.0, 5.0, 15.0, 1357034400.0)\n",
      "(2013, 1, 1, 533, 529, 4.0, 850, 830, 20.0, 'UA', 1714, 'N24211', 'LGA', 'IAH', 227.0, 1416.0, 5.0, 29.0, 1357034400.0)\n",
      "(2013, 1, 1, 542, 540, 2.0, 923, 850, 33.0, 'AA', 1141, 'N619AA', 'JFK', 'MIA', 160.0, 1089.0, 5.0, 40.0, 1357034400.0)\n",
      "(2013, 1, 1, 544, 545, -1.0, 1004, 1022, -18.0, 'B6', 725, 'N804JB', 'JFK', 'BQN', 183.0, 1576.0, 5.0, 45.0, 1357034400.0)\n",
      "(2013, 1, 1, 554, 600, -6.0, 812, 837, -25.0, 'DL', 461, 'N668DN', 'LGA', 'ATL', 116.0, 762.0, 6.0, 0.0, 1357038000.0)\n",
      "(2013, 1, 1, 554, 558, -4.0, 740, 728, 12.0, 'UA', 1696, 'N39463', 'EWR', 'ORD', 150.0, 719.0, 5.0, 58.0, 1357034400.0)\n",
      "(2013, 1, 1, 555, 600, -5.0, 913, 854, 19.0, 'B6', 507, 'N516JB', 'EWR', 'FLL', 158.0, 1065.0, 6.0, 0.0, 1357038000.0)\n",
      "(2013, 1, 1, 557, 600, -3.0, 709, 723, -14.0, 'EV', 5708, 'N829AS', 'LGA', 'IAD', 53.0, 229.0, 6.0, 0.0, 1357038000.0)\n",
      "(2013, 1, 1, 557, 600, -3.0, 838, 846, -8.0, 'B6', 79, 'N593JB', 'JFK', 'MCO', 140.0, 944.0, 6.0, 0.0, 1357038000.0)\n",
      "(2013, 1, 1, 558, 600, -2.0, 753, 745, 8.0, 'AA', 301, 'N3ALAA', 'LGA', 'ORD', 138.0, 733.0, 6.0, 0.0, 1357038000.0)\n"
     ]
    }
   ],
   "source": [
    "res = cur.execute(\"select * from flights limit 10\")\n",
    "for row in res:\n",
    "    print(row)"
   ]
  },
  {
   "cell_type": "markdown",
   "id": "8f20cc3e",
   "metadata": {
    "id": "8f20cc3e"
   },
   "source": [
    "(Actually, `res` is just the original cursor itself):"
   ]
  },
  {
   "cell_type": "markdown",
   "id": "a9bff225",
   "metadata": {
    "id": "a9bff225"
   },
   "source": [
    "### Fetching results\n",
    "To retrieve results, use the `cur.fetchone()` or `cur.fetchall()` methods:"
   ]
  },
  {
   "cell_type": "code",
   "execution_count": 27,
   "id": "7bb25bd0",
   "metadata": {
    "colab": {
     "base_uri": "https://localhost:8080/"
    },
    "executionInfo": {
     "elapsed": 133,
     "status": "ok",
     "timestamp": 1707325312540,
     "user": {
      "displayName": "Jayashree Ravi",
      "userId": "06933604785290521829"
     },
     "user_tz": 300
    },
    "id": "7bb25bd0",
    "outputId": "441f275b-bfaf-4528-ebf9-a177c191a194"
   },
   "outputs": [],
   "source": [
    "cur.fetchone()"
   ]
  },
  {
   "cell_type": "markdown",
   "id": "41cf4644",
   "metadata": {
    "id": "41cf4644"
   },
   "source": [
    "This returns a tuple containing one entry for each column in our `SELECT` statement."
   ]
  },
  {
   "cell_type": "markdown",
   "id": "a21dec25",
   "metadata": {
    "id": "a21dec25"
   },
   "source": [
    "If you want all the rows, use `cur.fetchall()`:"
   ]
  },
  {
   "cell_type": "code",
   "execution_count": 29,
   "id": "d602dce8",
   "metadata": {
    "colab": {
     "base_uri": "https://localhost:8080/"
    },
    "executionInfo": {
     "elapsed": 203,
     "status": "ok",
     "timestamp": 1707325332473,
     "user": {
      "displayName": "Jayashree Ravi",
      "userId": "06933604785290521829"
     },
     "user_tz": 300
    },
    "id": "d602dce8",
    "outputId": "3579425b-1750-46f0-a43f-2e959f78a240"
   },
   "outputs": [
    {
     "data": {
      "text/plain": [
       "0"
      ]
     },
     "execution_count": 29,
     "metadata": {},
     "output_type": "execute_result"
    }
   ],
   "source": [
    "len(res.fetchall())"
   ]
  },
  {
   "cell_type": "markdown",
   "id": "e064a34a",
   "metadata": {
    "id": "e064a34a"
   },
   "source": [
    "Notice that `.fetchall()` works like an iterator--we `SELECT`ed 10 rows, fetched one of them using `.fetchone()`, and then fetched the remaining 9 using `.fetchall()`. If we run this again we'll get zero rows back because we already fetched everything:"
   ]
  },
  {
   "cell_type": "code",
   "execution_count": 31,
   "id": "3f8f2666",
   "metadata": {
    "colab": {
     "base_uri": "https://localhost:8080/"
    },
    "executionInfo": {
     "elapsed": 166,
     "status": "ok",
     "timestamp": 1707325417704,
     "user": {
      "displayName": "Jayashree Ravi",
      "userId": "06933604785290521829"
     },
     "user_tz": 300
    },
    "id": "3f8f2666",
    "outputId": "e871b952-446a-4b7a-c083-dbd0bae0f2c4"
   },
   "outputs": [
    {
     "data": {
      "text/plain": [
       "0"
      ]
     },
     "execution_count": 31,
     "metadata": {},
     "output_type": "execute_result"
    }
   ],
   "source": [
    "len(res.fetchall())"
   ]
  },
  {
   "cell_type": "markdown",
   "id": "e7e9d5e0",
   "metadata": {
    "id": "e7e9d5e0"
   },
   "source": [
    "### Parameterized queries"
   ]
  },
  {
   "cell_type": "markdown",
   "id": "e754d102",
   "metadata": {
    "id": "e754d102"
   },
   "source": [
    "Sometimes our queries must depend on user input. Consider the following query which returns all the flights that happened in a certain month:"
   ]
  },
  {
   "cell_type": "code",
   "execution_count": 8,
   "id": "1b1f21b4",
   "metadata": {
    "colab": {
     "base_uri": "https://localhost:8080/"
    },
    "executionInfo": {
     "elapsed": 172,
     "status": "ok",
     "timestamp": 1707325519515,
     "user": {
      "displayName": "Jayashree Ravi",
      "userId": "06933604785290521829"
     },
     "user_tz": 300
    },
    "id": "1b1f21b4",
    "outputId": "2af6dc23-579f-4c9d-813b-35757539c448"
   },
   "outputs": [
    {
     "data": {
      "text/plain": [
       "28135"
      ]
     },
     "execution_count": 8,
     "metadata": {},
     "output_type": "execute_result"
    }
   ],
   "source": [
    "def num_flights_in_month(month):\n",
    "    query = f\"SELECT COUNT() FROM flights WHERE month = {month}\"\n",
    "    return cur.execute(query).fetchone()[0]\n",
    "\n",
    "num_flights_in_month(12)"
   ]
  },
  {
   "cell_type": "code",
   "execution_count": 18,
   "id": "34999360-0205-4d3f-9fc9-b63891df9980",
   "metadata": {},
   "outputs": [
    {
     "data": {
      "text/plain": [
       "(1, 27004)"
      ]
     },
     "execution_count": 18,
     "metadata": {},
     "output_type": "execute_result"
    }
   ],
   "source": [
    "query = \"\"\"\n",
    "SELECT \n",
    "    month, \n",
    "    COUNT() as flight_count\n",
    "FROM flights\n",
    "GROUP BY month\n",
    "ORDER BY month\n",
    "\"\"\"\n",
    "cur.execute(query).fetchone()"
   ]
  },
  {
   "cell_type": "code",
   "execution_count": 37,
   "id": "97c9ab4e-3943-493b-b765-2b6198f3b2dd",
   "metadata": {},
   "outputs": [
    {
     "name": "stdout",
     "output_type": "stream",
     "text": [
      "(27004,)\n",
      "1\n"
     ]
    }
   ],
   "source": [
    "res = cur.execute(\"SELECT COUNT() FROM flights WHERE month = 1\")\n",
    "row = res.fetchone()\n",
    "print(row)  # Might print something like: (2500,)  <- Note the comma, it's a tuple!\n",
    "print(len(row))\n"
   ]
  },
  {
   "cell_type": "markdown",
   "id": "5e8b7851",
   "metadata": {
    "id": "5e8b7851"
   },
   "source": [
    "For queries that depend on a parameter, we can use the special placeholder `?` to have the database do parameter substitution for us:"
   ]
  },
  {
   "cell_type": "code",
   "execution_count": 39,
   "id": "0369123a",
   "metadata": {
    "colab": {
     "base_uri": "https://localhost:8080/"
    },
    "executionInfo": {
     "elapsed": 125,
     "status": "ok",
     "timestamp": 1707325586505,
     "user": {
      "displayName": "Jayashree Ravi",
      "userId": "06933604785290521829"
     },
     "user_tz": 300
    },
    "id": "0369123a",
    "outputId": "ef067611-a3ba-4ba5-bb15-271609b2aa54"
   },
   "outputs": [
    {
     "data": {
      "text/plain": [
       "27004"
      ]
     },
     "execution_count": 39,
     "metadata": {},
     "output_type": "execute_result"
    }
   ],
   "source": [
    "def num_flights_in_month(m):\n",
    "    query = \"\"\"\n",
    "        SELECT COUNT() FROM flights WHERE month = ?\n",
    "    \"\"\"\n",
    "    return cur.execute(query, [m]).fetchone()[0]\n",
    "\n",
    "num_flights_in_month(1)"
   ]
  },
  {
   "cell_type": "markdown",
   "id": "af216cd1",
   "metadata": {
    "id": "af216cd1"
   },
   "source": [
    "Using multiple placeholders is possible:\n"
   ]
  },
  {
   "cell_type": "code",
   "execution_count": 41,
   "id": "99887b01",
   "metadata": {
    "colab": {
     "base_uri": "https://localhost:8080/"
    },
    "executionInfo": {
     "elapsed": 168,
     "status": "ok",
     "timestamp": 1707325712899,
     "user": {
      "displayName": "Jayashree Ravi",
      "userId": "06933604785290521829"
     },
     "user_tz": 300
    },
    "id": "99887b01",
    "outputId": "e4b38617-e0fb-4270-9473-ba39e196f5dd"
   },
   "outputs": [
    {
     "name": "stdout",
     "output_type": "stream",
     "text": [
      "(719,)\n"
     ]
    },
    {
     "data": {
      "text/plain": [
       "719"
      ]
     },
     "execution_count": 41,
     "metadata": {},
     "output_type": "execute_result"
    }
   ],
   "source": [
    "def num_flights_on_day(m, d):\n",
    "    query = \"\"\"SELECT COUNT() FROM flights WHERE month = ? AND day = ?\"\"\"\n",
    "    result = cur.execute(query, [m, d]).fetchone()\n",
    "    print(result)\n",
    "    return result[0]\n",
    "\n",
    "num_flights_on_day(12, 25)"
   ]
  },
  {
   "cell_type": "markdown",
   "id": "90138664",
   "metadata": {
    "id": "90138664"
   },
   "source": [
    "## Some questions about `flights`\n",
    "\n",
    "Now we will use SQL queries to various questions about the `flights` dataset."
   ]
  },
  {
   "cell_type": "markdown",
   "id": "6188ea38",
   "metadata": {
    "id": "6188ea38"
   },
   "source": [
    "### Which airport is the busiest?\n",
    "We need to aggregate `flights` by the `origin` column, and they count the number of rows in each group."
   ]
  },
  {
   "cell_type": "code",
   "execution_count": 14,
   "id": "c711a510",
   "metadata": {
    "colab": {
     "base_uri": "https://localhost:8080/"
    },
    "executionInfo": {
     "elapsed": 249,
     "status": "ok",
     "timestamp": 1696513121437,
     "user": {
      "displayName": "Jayashree Ravi",
      "userId": "06933604785290521829"
     },
     "user_tz": 240
    },
    "id": "c711a510",
    "outputId": "863e8989-fa95-4b51-c021-dac4f90e1556"
   },
   "outputs": [
    {
     "data": {
      "text/plain": [
       "[('EWR', 120835), ('JFK', 111279), ('LGA', 104662)]"
      ]
     },
     "execution_count": 14,
     "metadata": {},
     "output_type": "execute_result"
    }
   ],
   "source": [
    "cur.execute(\"SELECT origin, COUNT() FROM flights GROUP BY origin\").fetchall()"
   ]
  },
  {
   "cell_type": "code",
   "execution_count": 46,
   "id": "f3091f3d-077d-4355-9a13-c9f7f9969164",
   "metadata": {},
   "outputs": [
    {
     "data": {
      "text/plain": [
       "[('LGA', 104662), ('JFK', 111279), ('EWR', 120835)]"
      ]
     },
     "execution_count": 46,
     "metadata": {},
     "output_type": "execute_result"
    }
   ],
   "source": [
    "cur.execute(\"SELECT origin, COUNT() as flight_count FROM flights GROUP BY origin ORDER BY flight_count ASC\").fetchall()"
   ]
  },
  {
   "cell_type": "markdown",
   "id": "91823426",
   "metadata": {
    "id": "91823426"
   },
   "source": [
    "### Which month was coldest?\n",
    "We need to aggregate `weather` by `month`, and the compute some measure of coldness."
   ]
  },
  {
   "cell_type": "code",
   "execution_count": 31,
   "id": "0d7efbb7",
   "metadata": {
    "colab": {
     "base_uri": "https://localhost:8080/"
    },
    "executionInfo": {
     "elapsed": 204,
     "status": "ok",
     "timestamp": 1676464596664,
     "user": {
      "displayName": "Jayashree Ravi",
      "userId": "06933604785290521829"
     },
     "user_tz": 300
    },
    "id": "0d7efbb7",
    "outputId": "e81c17d4-bd3e-4af9-f51d-cdecdbdcf22a"
   },
   "outputs": [
    {
     "data": {
      "text/plain": [
       "[(2, 34.27059701492537),\n",
       " (1, 35.63566037735849),\n",
       " (12, 38.44180037313433),\n",
       " (3, 39.88007184553211),\n",
       " (11, 44.9904343764596),\n",
       " (4, 51.74564150069477),\n",
       " (10, 60.07113019891501),\n",
       " (5, 61.795),\n",
       " (9, 67.37129226493747),\n",
       " (6, 72.184),\n",
       " (8, 74.46846570397112),\n",
       " (7, 80.06622082585278)]"
      ]
     },
     "execution_count": 31,
     "metadata": {},
     "output_type": "execute_result"
    }
   ],
   "source": [
    "cur.execute(\"SELECT month, AVG(temp) FROM weather GROUP BY month order by avg(temp)\").fetchall()"
   ]
  },
  {
   "cell_type": "markdown",
   "id": "581be596",
   "metadata": {
    "id": "581be596"
   },
   "source": [
    "### What is the most popular carrier at each of the three NYC airports?\n",
    "This one is a bit trickier. We start by counting the number of flights for each combination of `carrier` and `origin`:"
   ]
  },
  {
   "cell_type": "code",
   "execution_count": 39,
   "id": "7882fcf3",
   "metadata": {
    "colab": {
     "base_uri": "https://localhost:8080/"
    },
    "executionInfo": {
     "elapsed": 433,
     "status": "ok",
     "timestamp": 1707310169241,
     "user": {
      "displayName": "Jayashree Ravi",
      "userId": "06933604785290521829"
     },
     "user_tz": 300
    },
    "id": "7882fcf3",
    "outputId": "62b88b64-24a6-441c-9afc-29f7417c056c"
   },
   "outputs": [
    {
     "data": {
      "text/plain": [
       "[('EWR', 'UA', 46087),\n",
       " ('EWR', 'EV', 43939),\n",
       " ('JFK', 'B6', 42076),\n",
       " ('LGA', 'DL', 23067),\n",
       " ('JFK', 'DL', 20701),\n",
       " ('LGA', 'MQ', 16928),\n",
       " ('LGA', 'AA', 15459),\n",
       " ('JFK', '9E', 14651),\n",
       " ('JFK', 'AA', 13783),\n",
       " ('LGA', 'US', 13136),\n",
       " ('LGA', 'EV', 8826),\n",
       " ('LGA', 'UA', 8044),\n",
       " ('JFK', 'MQ', 7193),\n",
       " ('EWR', 'B6', 6557),\n",
       " ('EWR', 'WN', 6188),\n",
       " ('LGA', 'WN', 6087),\n",
       " ('LGA', 'B6', 6002),\n",
       " ('JFK', 'UA', 4534),\n",
       " ('EWR', 'US', 4405),\n",
       " ('EWR', 'DL', 4342),\n",
       " ('JFK', 'VX', 3596),\n",
       " ('EWR', 'AA', 3487),\n",
       " ('LGA', 'FL', 3260),\n",
       " ('JFK', 'US', 2995),\n",
       " ('LGA', '9E', 2541),\n",
       " ('EWR', 'MQ', 2276),\n",
       " ('EWR', 'VX', 1566),\n",
       " ('JFK', 'EV', 1408),\n",
       " ('EWR', '9E', 1268),\n",
       " ('EWR', 'AS', 714),\n",
       " ('LGA', 'F9', 685),\n",
       " ('LGA', 'YV', 601),\n",
       " ('JFK', 'HA', 342),\n",
       " ('LGA', 'OO', 26),\n",
       " ('EWR', 'OO', 6)]"
      ]
     },
     "execution_count": 39,
     "metadata": {},
     "output_type": "execute_result"
    }
   ],
   "source": [
    "cur.execute('''SELECT origin, carrier, COUNT() FROM flights\n",
    "GROUP BY origin, carrier\n",
    "ORDER BY  count() desc''').fetchall()"
   ]
  },
  {
   "cell_type": "markdown",
   "id": "Xc_m4GFtnwgz",
   "metadata": {
    "id": "Xc_m4GFtnwgz"
   },
   "source": [
    "This got us all the records. But we want only the only the most popular carrier for each airport"
   ]
  },
  {
   "cell_type": "markdown",
   "id": "874a5ca3",
   "metadata": {
    "id": "874a5ca3"
   },
   "source": [
    "Next, we need to rank the carriers within origin by their counts. Notice this is using a subquery to get the result\n",
    "\n",
    "```SELECT * FROM (<another query>)```"
   ]
  },
  {
   "cell_type": "code",
   "execution_count": null,
   "id": "cebe8f9d",
   "metadata": {
    "colab": {
     "base_uri": "https://localhost:8080/"
    },
    "executionInfo": {
     "elapsed": 598,
     "status": "ok",
     "timestamp": 1707326765207,
     "user": {
      "displayName": "Jayashree Ravi",
      "userId": "06933604785290521829"
     },
     "user_tz": 300
    },
    "id": "cebe8f9d",
    "outputId": "4ed2e365-379f-43ae-a4fc-86e48e21ebe6"
   },
   "outputs": [],
   "source": [
    "cur.execute(\n",
    "    \"\"\"\n",
    "    SELECT origin, carrier, n, RANK() OVER (\n",
    "        PARTITION BY origin\n",
    "        ORDER BY n desc\n",
    "    ) AS r FROM\n",
    "    (SELECT origin, carrier, COUNT() as n FROM flights GROUP BY carrier, origin)\n",
    "\"\"\"\n",
    ").fetchall()"
   ]
  },
  {
   "cell_type": "markdown",
   "id": "a1b80425",
   "metadata": {
    "id": "a1b80425"
   },
   "source": [
    "Finally, to find the most popular carriers, we can filter this table to only the rows where `rank=1`. To do this I will extend the query with the 'where' clause\n"
   ]
  },
  {
   "cell_type": "code",
   "execution_count": null,
   "id": "81fc5847",
   "metadata": {
    "colab": {
     "base_uri": "https://localhost:8080/"
    },
    "executionInfo": {
     "elapsed": 587,
     "status": "ok",
     "timestamp": 1707326894219,
     "user": {
      "displayName": "Jayashree Ravi",
      "userId": "06933604785290521829"
     },
     "user_tz": 300
    },
    "id": "81fc5847",
    "outputId": "b6215bb9-2b4b-46dd-c1d0-eccf9e48ba86"
   },
   "outputs": [],
   "source": [
    "cur.execute(\"\"\"\n",
    "    SELECT * FROM (SELECT carrier, origin, n, RANK() OVER (\n",
    "        PARTITION BY origin\n",
    "        ORDER BY n DESC\n",
    "    ) AS r FROM\n",
    "    (SELECT COUNT() as n, carrier, origin FROM flights GROUP BY carrier, origin)\n",
    "    ) WHERE r = 1\n",
    "\"\"\").fetchall()"
   ]
  },
  {
   "cell_type": "markdown",
   "id": "22bfc468",
   "metadata": {
    "id": "22bfc468"
   },
   "source": [
    "### What are the busiest travel weeks of the year?\n",
    "We need to figure out the week of each flight, and then aggregate them. To manipulate dates in sqlite, we have the [`strftime()` function](https://www.sqlite.org/lang_datefunc.html):"
   ]
  },
  {
   "cell_type": "code",
   "execution_count": 37,
   "id": "a1155f6c",
   "metadata": {
    "colab": {
     "base_uri": "https://localhost:8080/"
    },
    "executionInfo": {
     "elapsed": 161,
     "status": "ok",
     "timestamp": 1707326975856,
     "user": {
      "displayName": "Jayashree Ravi",
      "userId": "06933604785290521829"
     },
     "user_tz": 300
    },
    "id": "a1155f6c",
    "outputId": "3870d1b3-c6c0-4699-b109-37a513d850ef"
   },
   "outputs": [
    {
     "data": {
      "text/plain": [
       "('13',)"
      ]
     },
     "execution_count": 37,
     "metadata": {},
     "output_type": "execute_result"
    }
   ],
   "source": [
    "cur.execute(\"\"\"SELECT strftime('%M', 'now')\"\"\").fetchone()"
   ]
  },
  {
   "cell_type": "markdown",
   "id": "f05df785",
   "metadata": {
    "id": "f05df785"
   },
   "source": [
    "### The Unix epoch\n",
    "The `time_hour` column in `flights` looks like:"
   ]
  },
  {
   "cell_type": "code",
   "execution_count": null,
   "id": "28ca8e2f",
   "metadata": {
    "colab": {
     "base_uri": "https://localhost:8080/"
    },
    "executionInfo": {
     "elapsed": 11,
     "status": "ok",
     "timestamp": 1676464598733,
     "user": {
      "displayName": "Jayashree Ravi",
      "userId": "06933604785290521829"
     },
     "user_tz": 300
    },
    "id": "28ca8e2f",
    "outputId": "419591f9-f8c3-4c8c-fe46-4798edabe2f1"
   },
   "outputs": [],
   "source": [
    "cur.execute(\"\"\"SELECT time_hour FROM flights\"\"\").fetchone()"
   ]
  },
  {
   "cell_type": "markdown",
   "id": "e6046a6d",
   "metadata": {
    "id": "e6046a6d"
   },
   "source": [
    "This number represents the number of seconds that have elapsed since midnight GMT on January 1, 1970, a date known as the [Unix epoch](https://en.wikipedia.org/wiki/Unix_time). We can use `strftime()` on these dates provided we tell it how they are formatted."
   ]
  },
  {
   "cell_type": "code",
   "execution_count": null,
   "id": "956864c8",
   "metadata": {
    "colab": {
     "base_uri": "https://localhost:8080/"
    },
    "executionInfo": {
     "elapsed": 8,
     "status": "ok",
     "timestamp": 1676464598734,
     "user": {
      "displayName": "Jayashree Ravi",
      "userId": "06933604785290521829"
     },
     "user_tz": 300
    },
    "id": "956864c8",
    "outputId": "1d00ba38-3e22-43ce-89c7-015f8f4a58cd"
   },
   "outputs": [],
   "source": [
    "# datetime() is an alias for strftime('%Y-%m-%d %H:%M:%S', ...)\n",
    "cur.execute(\"\"\"SELECT datetime(1357034400, 'unixepoch')\"\"\").fetchone()"
   ]
  },
  {
   "cell_type": "markdown",
   "id": "75dcf05c",
   "metadata": {
    "id": "75dcf05c"
   },
   "source": [
    "Now we can convert each date to a week of the year:"
   ]
  },
  {
   "cell_type": "code",
   "execution_count": null,
   "id": "fb421b94",
   "metadata": {
    "colab": {
     "base_uri": "https://localhost:8080/",
     "height": 423
    },
    "executionInfo": {
     "elapsed": 1039,
     "status": "ok",
     "timestamp": 1707327180547,
     "user": {
      "displayName": "Jayashree Ravi",
      "userId": "06933604785290521829"
     },
     "user_tz": 300
    },
    "id": "fb421b94",
    "outputId": "f030d53a-10aa-417c-f761-25e73f3a3b99"
   },
   "outputs": [],
   "source": [
    "pd.read_sql_query(\n",
    "    \"\"\"\n",
    "    SELECT year, month, day, strftime('%W', time_hour, 'unixepoch') as week\n",
    "from flights\"\"\",\n",
    "    con,\n",
    ")"
   ]
  },
  {
   "cell_type": "markdown",
   "id": "249294ea",
   "metadata": {
    "id": "249294ea"
   },
   "source": [
    "The final query looks like:"
   ]
  },
  {
   "cell_type": "code",
   "execution_count": null,
   "id": "484e5884",
   "metadata": {
    "colab": {
     "base_uri": "https://localhost:8080/"
    },
    "executionInfo": {
     "elapsed": 479,
     "status": "ok",
     "timestamp": 1707327191367,
     "user": {
      "displayName": "Jayashree Ravi",
      "userId": "06933604785290521829"
     },
     "user_tz": 300
    },
    "id": "484e5884",
    "outputId": "20bbea27-78ca-44ca-a149-34d59f2e49f6"
   },
   "outputs": [],
   "source": [
    "con.execute(\n",
    "    \"\"\"\n",
    "    SELECT COUNT() as n, strftime('%W', time_hour, 'unixepoch') as week FROM flights\n",
    "    GROUP BY week\n",
    "    ORDER BY n DESC\n",
    "    LIMIT 5\n",
    "\"\"\"\n",
    ").fetchall()"
   ]
  },
  {
   "cell_type": "markdown",
   "id": "452dc111",
   "metadata": {
    "id": "452dc111"
   },
   "source": [
    "### What were the ten worst days for average departure delay?"
   ]
  },
  {
   "cell_type": "code",
   "execution_count": null,
   "id": "5619050f",
   "metadata": {
    "colab": {
     "base_uri": "https://localhost:8080/"
    },
    "executionInfo": {
     "elapsed": 325,
     "status": "ok",
     "timestamp": 1676464601981,
     "user": {
      "displayName": "Jayashree Ravi",
      "userId": "06933604785290521829"
     },
     "user_tz": 300
    },
    "id": "5619050f",
    "outputId": "91d74099-ef23-4c58-887d-d107755ea144"
   },
   "outputs": [],
   "source": [
    "con.execute('''SELECT year, month, day, AVG(dep_delay) AS avg_delay\n",
    "            FROM flights GROUP BY year, month, day\n",
    "            ORDER BY avg_delay DESC\n",
    "            LIMIT 10''').fetchall()"
   ]
  },
  {
   "cell_type": "markdown",
   "id": "f6731f99",
   "metadata": {
    "id": "f6731f99"
   },
   "source": [
    "### What were the ten best days for departure delay?"
   ]
  },
  {
   "cell_type": "code",
   "execution_count": null,
   "id": "ad465bb0",
   "metadata": {
    "colab": {
     "base_uri": "https://localhost:8080/"
    },
    "executionInfo": {
     "elapsed": 499,
     "status": "ok",
     "timestamp": 1676464602477,
     "user": {
      "displayName": "Jayashree Ravi",
      "userId": "06933604785290521829"
     },
     "user_tz": 300
    },
    "id": "ad465bb0",
    "outputId": "4f68841d-6048-4dd0-d5aa-aa86bff456b5"
   },
   "outputs": [],
   "source": [
    "con.execute('''SELECT year, month, day, AVG(dep_delay) AS avg_delay\n",
    "            FROM flights GROUP BY year, month, day\n",
    "            ORDER BY avg_delay ASC\n",
    "            LIMIT 10''').fetchall()"
   ]
  },
  {
   "cell_type": "markdown",
   "id": "a4fb7c16",
   "metadata": {
    "id": "a4fb7c16"
   },
   "source": [
    "### What airlines have the most departure delay?"
   ]
  },
  {
   "cell_type": "code",
   "execution_count": null,
   "id": "0f9a8bcf",
   "metadata": {
    "colab": {
     "base_uri": "https://localhost:8080/"
    },
    "executionInfo": {
     "elapsed": 521,
     "status": "ok",
     "timestamp": 1707310934641,
     "user": {
      "displayName": "Jayashree Ravi",
      "userId": "06933604785290521829"
     },
     "user_tz": 300
    },
    "id": "0f9a8bcf",
    "outputId": "1d461ed0-50e5-411b-c643-b4c041c4f869"
   },
   "outputs": [],
   "source": [
    "con.execute('''SELECT airlines.carrier, name, AVG(dep_delay) AS avg_delay\n",
    "            FROM flights\n",
    "            JOIN airlines on airlines.carrier = flights.carrier\n",
    "            GROUP BY airlines.name\n",
    "            ORDER BY avg_delay DESC\n",
    "            LIMIT 10''').fetchall()"
   ]
  },
  {
   "cell_type": "markdown",
   "id": "ee9ff5bb-bf7f-4188-a922-6b24704fdab4",
   "metadata": {
    "id": "ee9ff5bb-bf7f-4188-a922-6b24704fdab4"
   },
   "source": [
    "## Using *Having* clause\n",
    "Which airlines have average departure delays between 5-10 minutes?"
   ]
  },
  {
   "cell_type": "code",
   "execution_count": null,
   "id": "0116ff2f-8e9b-49ad-85ba-c9938519bf9f",
   "metadata": {
    "colab": {
     "base_uri": "https://localhost:8080/"
    },
    "executionInfo": {
     "elapsed": 322,
     "status": "ok",
     "timestamp": 1676464604026,
     "user": {
      "displayName": "Jayashree Ravi",
      "userId": "06933604785290521829"
     },
     "user_tz": 300
    },
    "id": "0116ff2f-8e9b-49ad-85ba-c9938519bf9f",
    "outputId": "7b311868-3baf-41f7-c10b-e76b3bc34a00"
   },
   "outputs": [],
   "source": [
    "con.execute('''SELECT airlines.carrier, name, AVG(dep_delay) AS avg_delay\n",
    "            FROM flights\n",
    "            JOIN airlines on airlines.carrier=flights.carrier\n",
    "            GROUP BY airlines.name\n",
    "            HAVING avg_delay between 5 and 10''').fetchall()"
   ]
  },
  {
   "cell_type": "code",
   "execution_count": null,
   "id": "dce03b00-624e-42d6-8c97-7a9bcacd5163",
   "metadata": {
    "id": "dce03b00-624e-42d6-8c97-7a9bcacd5163"
   },
   "outputs": [],
   "source": []
  },
  {
   "cell_type": "markdown",
   "id": "d58bf855",
   "metadata": {
    "id": "d58bf855"
   },
   "source": [
    "### What airplane flew the most days?\n",
    "Airplanes are identified by their tail number."
   ]
  },
  {
   "cell_type": "code",
   "execution_count": null,
   "id": "1a715a3b",
   "metadata": {
    "colab": {
     "base_uri": "https://localhost:8080/"
    },
    "executionInfo": {
     "elapsed": 642,
     "status": "ok",
     "timestamp": 1676464604665,
     "user": {
      "displayName": "Jayashree Ravi",
      "userId": "06933604785290521829"
     },
     "user_tz": 300
    },
    "id": "1a715a3b",
    "outputId": "e2ec1eea-484c-46df-d2a8-50eb3e28a52b"
   },
   "outputs": [],
   "source": [
    "cur.execute('''SELECT tailnum, COUNT() AS n FROM\n",
    "    (SELECT DISTINCT year, month, day, tailnum FROM flights)\n",
    "    GROUP BY tailnum\n",
    "    ORDER BY n DESC\n",
    "    LIMIT 1\n",
    "''').fetchall()"
   ]
  },
  {
   "cell_type": "markdown",
   "id": "e2a4a23f",
   "metadata": {
    "id": "e2a4a23f"
   },
   "source": [
    "Interestingly, you can Google most tail numbers: [N328AA](https://www.planespotters.net/airframe/boeing-767-200-n328aa-american-airlines/enj523)."
   ]
  },
  {
   "cell_type": "markdown",
   "id": "3c9c8fa7",
   "metadata": {
    "id": "3c9c8fa7"
   },
   "source": [
    "### How many flights were cancelled?\n",
    "We'll say that a cancelled flight has `dep_time` missing."
   ]
  },
  {
   "cell_type": "code",
   "execution_count": null,
   "id": "754fbe87",
   "metadata": {
    "colab": {
     "base_uri": "https://localhost:8080/"
    },
    "executionInfo": {
     "elapsed": 10,
     "status": "ok",
     "timestamp": 1676464604665,
     "user": {
      "displayName": "Jayashree Ravi",
      "userId": "06933604785290521829"
     },
     "user_tz": 300
    },
    "id": "754fbe87",
    "outputId": "aec06dff-0ffd-47ec-d241-1fbefe34be58"
   },
   "outputs": [],
   "source": [
    "cur.execute('''SELECT COUNT() FROM flights WHERE dep_time IS NULL''').fetchone()"
   ]
  },
  {
   "cell_type": "markdown",
   "id": "9bf55580",
   "metadata": {
    "id": "9bf55580"
   },
   "source": [
    "Notice that we don't write `= NULL`. That does not work:"
   ]
  },
  {
   "cell_type": "code",
   "execution_count": null,
   "id": "5e24e245",
   "metadata": {
    "colab": {
     "base_uri": "https://localhost:8080/"
    },
    "executionInfo": {
     "elapsed": 9,
     "status": "ok",
     "timestamp": 1676464604666,
     "user": {
      "displayName": "Jayashree Ravi",
      "userId": "06933604785290521829"
     },
     "user_tz": 300
    },
    "id": "5e24e245",
    "outputId": "131db883-fdc6-424d-d7b1-077ad511c304"
   },
   "outputs": [],
   "source": [
    "cur.execute('''SELECT COUNT() FROM flights WHERE dep_time = NULL''').fetchone()"
   ]
  },
  {
   "cell_type": "markdown",
   "id": "a0ae1050",
   "metadata": {
    "id": "a0ae1050"
   },
   "source": [
    "### How many flights were destined for airports with a one word name?\n",
    "\n",
    "(Not including the word \"airport\")\n",
    "\n",
    "Here is an example of an airport with a one-word name:"
   ]
  },
  {
   "cell_type": "code",
   "execution_count": null,
   "id": "d9de947b",
   "metadata": {
    "colab": {
     "base_uri": "https://localhost:8080/"
    },
    "executionInfo": {
     "elapsed": 160,
     "status": "ok",
     "timestamp": 1676464604821,
     "user": {
      "displayName": "Jayashree Ravi",
      "userId": "06933604785290521829"
     },
     "user_tz": 300
    },
    "id": "d9de947b",
    "outputId": "2388c928-ca71-4fb4-d8b1-b13b170901f6"
   },
   "outputs": [],
   "source": [
    "cur.execute(\"SELECT * FROM airports WHERE name = 'Packwood'\").description"
   ]
  },
  {
   "cell_type": "code",
   "execution_count": null,
   "id": "5abf09fe-1341-4f73-ba79-732d1503e88a",
   "metadata": {
    "colab": {
     "base_uri": "https://localhost:8080/"
    },
    "executionInfo": {
     "elapsed": 8,
     "status": "ok",
     "timestamp": 1676464604822,
     "user": {
      "displayName": "Jayashree Ravi",
      "userId": "06933604785290521829"
     },
     "user_tz": 300
    },
    "id": "5abf09fe-1341-4f73-ba79-732d1503e88a",
    "outputId": "f33785ee-0b77-4df7-a788-423a88c8c258"
   },
   "outputs": [],
   "source": [
    "cur.execute(\"SELECT faa, name FROM airports WHERE name NOT LIKE '% %'\").fetchall()"
   ]
  },
  {
   "cell_type": "code",
   "execution_count": null,
   "id": "8ae504bb",
   "metadata": {
    "colab": {
     "base_uri": "https://localhost:8080/"
    },
    "executionInfo": {
     "elapsed": 869,
     "status": "ok",
     "timestamp": 1676464605688,
     "user": {
      "displayName": "Jayashree Ravi",
      "userId": "06933604785290521829"
     },
     "user_tz": 300
    },
    "id": "8ae504bb",
    "outputId": "b1cdf011-1fba-4094-87a2-8e9aef4b59ff"
   },
   "outputs": [],
   "source": [
    "cur.execute(\n",
    "    \"\"\"\n",
    "    SELECT COUNT() FROM flights\n",
    "    INNER JOIN (SELECT faa FROM airports WHERE name NOT LIKE '% %') one_word\n",
    "    ON one_word.faa = flights.dest\n",
    "    \"\"\"\n",
    ").fetchall()"
   ]
  }
 ],
 "metadata": {
  "celltoolbar": "Slideshow",
  "colab": {
   "provenance": []
  },
  "kernelspec": {
   "display_name": "Python 3 (ipykernel)",
   "language": "python",
   "name": "python3"
  },
  "language_info": {
   "codemirror_mode": {
    "name": "ipython",
    "version": 3
   },
   "file_extension": ".py",
   "mimetype": "text/x-python",
   "name": "python",
   "nbconvert_exporter": "python",
   "pygments_lexer": "ipython3",
   "version": "3.12.2"
  }
 },
 "nbformat": 4,
 "nbformat_minor": 5
}
