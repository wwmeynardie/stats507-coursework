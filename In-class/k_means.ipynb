{
 "cells": [
  {
   "cell_type": "code",
   "execution_count": 2,
   "id": "823af0e1-a3a5-4020-bc1d-4b54debc47c2",
   "metadata": {},
   "outputs": [],
   "source": [
    "import numpy as np"
   ]
  },
  {
   "cell_type": "code",
   "execution_count": 3,
   "id": "4ef85828-c6d0-4233-ba60-7cff99d42712",
   "metadata": {},
   "outputs": [],
   "source": [
    "# Implement the class\n",
    "class KMeans():\n",
    "    def __init__(self, n_clusters=3, max_iters=100):\n",
    "        self.n_clusters = n_clusters\n",
    "        self.max_iters = max_iters\n",
    "\n",
    "    def fit(self, X):\n",
    "        idx = np.random.choice(len(X), self.n_clusters, replace=False)\n",
    "        self.centroids = X[idx]\n",
    "\n",
    "        for _ in range(self.max_iters):\n",
    "            distances = np.linalg.norm(X[:, np.newaxis] - self.centroids, axis=2)\n",
    "            new_labels = np.argmin(distances, axis=1)\n",
    "            new_centroids = np.array([X[new_labels == k].mean(axis=0) for k in range(self.n_clusters)])\n",
    "\n",
    "            if np.allclose(new_centroids, self.centroids):\n",
    "                break\n",
    "            self.centroids = new_centroids\n",
    "        return self\n",
    "    \n",
    "    def predict(self, X):\n",
    "        distances = np.linalg.norm(X[:, np.newaxis] - self.centroids, axis=2)\n",
    "        labels = np.argmin(distances, axis=1)\n",
    "        return labels"
   ]
  },
  {
   "cell_type": "code",
   "execution_count": 4,
   "id": "1c4b9d12-c57c-4911-a78c-5ebf98f27f1b",
   "metadata": {},
   "outputs": [
    {
     "name": "stdout",
     "output_type": "stream",
     "text": [
      "Predictions for test data: [2 2 2 2 2 2 1 2 2 2]\n",
      "All tests passed!\n"
     ]
    }
   ],
   "source": [
    "# test the class\n",
    "def test_kmeans():\n",
    "    # Test 1: Basic clustering with clearly separated points\n",
    "    X = np.array([\n",
    "        [0, 0], [1, 0], [0, 1],      # Cluster 1\n",
    "        [5, 5], [6, 5], [5, 6],      # Cluster 2\n",
    "        [10, 10], [11, 10], [10, 11]  # Cluster 3\n",
    "    ])\n",
    "    \n",
    "    np.random.seed(42)\n",
    "    kmeans = KMeans(n_clusters=3)\n",
    "    kmeans.fit(X)\n",
    "    \n",
    "    # Test number of centroids\n",
    "    assert len(kmeans.centroids) == 3, \"Should have 3 centroids\"\n",
    "    \n",
    "    # Test centroid shapes\n",
    "    assert kmeans.centroids.shape == (3, 2), \"Centroids should be 2D\"\n",
    "\n",
    "    X_test = np.random.normal(4, 1, (10, 2))\n",
    "    \n",
    "    # Predict clusters for test data\n",
    "    predictions = kmeans.predict(X_test)\n",
    "    print(\"Predictions for test data:\", predictions)\n",
    "    \n",
    "    # Test 2: Random data\n",
    "    np.random.seed(42)\n",
    "    X_random = np.random.randn(100, 2) * 3\n",
    "    X_random[:33] += np.array([10, 10])\n",
    "    X_random[33:66] += np.array([-10, -10])\n",
    "    \n",
    "    kmeans = KMeans(n_clusters=3)\n",
    "    kmeans.fit(X_random)\n",
    "    \n",
    "    distances = np.linalg.norm(X_random[:, np.newaxis] - kmeans.centroids, axis=2)\n",
    "    labels = np.argmin(distances, axis=1)\n",
    "    \n",
    "    # Test cluster sizes are reasonable\n",
    "    unique, counts = np.unique(labels, return_counts=True)\n",
    "    assert len(unique) == 3, \"Should have 3 unique clusters\"\n",
    "    assert all(counts > 5), \"Each cluster should have multiple points\"\n",
    "    \n",
    "    print(\"All tests passed!\")\n",
    "    \n",
    "\n",
    "if __name__ == \"__main__\":\n",
    "    test_kmeans()"
   ]
  },
  {
   "cell_type": "code",
   "execution_count": null,
   "id": "d1179807-3173-40bd-83dc-81d4400b824c",
   "metadata": {},
   "outputs": [],
   "source": []
  }
 ],
 "metadata": {
  "kernelspec": {
   "display_name": "base",
   "language": "python",
   "name": "python3"
  },
  "language_info": {
   "codemirror_mode": {
    "name": "ipython",
    "version": 3
   },
   "file_extension": ".py",
   "mimetype": "text/x-python",
   "name": "python",
   "nbconvert_exporter": "python",
   "pygments_lexer": "ipython3",
   "version": "3.11.4"
  }
 },
 "nbformat": 4,
 "nbformat_minor": 5
}
